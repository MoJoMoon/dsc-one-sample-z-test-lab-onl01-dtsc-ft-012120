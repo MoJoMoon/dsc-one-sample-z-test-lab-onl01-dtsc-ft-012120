{
 "cells": [
  {
   "cell_type": "markdown",
   "metadata": {},
   "source": [
    "# One-Sample z-test - Lab\n",
    "\n",
    "## Introduction\n",
    "In this lab, you'll perform a few quick tests to help you better understand how hypothesis testing works.\n",
    "\n",
    "## Objectives\n",
    "You will be able to:\n",
    "\n",
    "* Explain use cases for a 1-sample z-test\n",
    "* Set up null and alternative hypotheses\n",
    "* Use the z-table and scipy methods to acquire the p value for a given z-score\n",
    "* Calculate and interpret p-value for significance of results\n",
    "\n",
    "## Exercise 1\n",
    "A fast-food chain claims that the mean time to order food at their restaurants is 60 seconds, with a standard deviation of 30 seconds. You decide to put this claim to the test and go to one of the restaurants to observe actual waiting times. You take a sample of 36 customers and find that the mean order time was 75 seconds. Does this finding provide enough evidence to contradict the fast food chain's claim of fast service?\n",
    "\n",
    "Follow the 5 steps shown in previous lesson and use $\\alpha$ = 0.05. "
   ]
  },
  {
   "cell_type": "code",
   "execution_count": 6,
   "metadata": {},
   "outputs": [],
   "source": [
    "# State your null and alternative hypotheses\n",
    "# H0: The fast food chain's mean order time = 60 seconds\n",
    "# H1: The fast food chain's mean order time != 60 seconds"
   ]
  },
  {
   "cell_type": "code",
   "execution_count": 2,
   "metadata": {
    "ExecuteTime": {
     "end_time": "2020-03-03T08:07:41.545374Z",
     "start_time": "2020-03-03T08:07:40.680318Z"
    }
   },
   "outputs": [
    {
     "data": {
      "text/plain": [
       "(0.0013498980316301035, 3.0)"
      ]
     },
     "execution_count": 2,
     "metadata": {},
     "output_type": "execute_result"
    }
   ],
   "source": [
    "import math\n",
    "import scipy.stats as stats\n",
    "\n",
    "# Mu as the mean of population\n",
    "mu = 60\n",
    "# Sigma as standard deviation of population\n",
    "sigma = 30\n",
    "# N as the sample size\n",
    "n = 36\n",
    "# X_bar as the sample mean\n",
    "x_bar = 75\n",
    "# Z-test formula\n",
    "z = (x_bar - mu)/(sigma/math.sqrt(n))\n",
    "# Calculate p-value with z\n",
    "p = 1 - stats.norm.cdf(z)\n",
    "\n",
    "p, z"
   ]
  },
  {
   "cell_type": "code",
   "execution_count": 1,
   "metadata": {},
   "outputs": [],
   "source": [
    "# Your solution here\n",
    "\n",
    "\n",
    "# (p = 0.0013498980316301035, z = 3.0)"
   ]
  },
  {
   "cell_type": "code",
   "execution_count": 4,
   "metadata": {
    "ExecuteTime": {
     "end_time": "2020-03-03T08:13:27.394556Z",
     "start_time": "2020-03-03T08:13:27.391586Z"
    }
   },
   "outputs": [],
   "source": [
    "# Interpret the results in terms of the p-value\n",
    "# With such a low p-value, and alpha being 0.05 we should reject the null hypothesis \n",
    "# in this case. Therefore the time to order food is significantly higher than\n",
    "# the claims of the fast food restaurant.\n"
   ]
  },
  {
   "cell_type": "markdown",
   "metadata": {},
   "source": [
    "## Exercise 2\n",
    "\n",
    "25 students complete a preparation program for taking the SAT test.  Here are the SAT scores from the 25 students who completed the program:\n",
    "\n",
    "``\n",
    "434 694 457 534 720 400 484 478 610 641 425 636 454 \n",
    "514 563 370 499 640 501 625 612 471 598 509 531\n",
    "``\n",
    "\n",
    "We know that the population average for SAT scores is 500 with a standard deviation of 100.\n",
    "\n",
    "Are our 25 students’ SAT scores significantly higher than the population's mean score? \n",
    "\n",
    "*Note that the SAT preparation program claims that it will increase (and not decrease) the SAT score.  So, you can conduct a one-directional test. (alpha = .05).*"
   ]
  },
  {
   "cell_type": "code",
   "execution_count": 10,
   "metadata": {
    "ExecuteTime": {
     "end_time": "2020-03-03T08:24:36.181360Z",
     "start_time": "2020-03-03T08:24:36.177857Z"
    }
   },
   "outputs": [],
   "source": [
    "# State your hypotheses \n",
    "# H0: The prep mean SAT score and population mean SAT score both = 500\n",
    "# H1: The prep mean SAT score is higher than 500"
   ]
  },
  {
   "cell_type": "code",
   "execution_count": 6,
   "metadata": {
    "ExecuteTime": {
     "end_time": "2020-03-03T08:21:59.536327Z",
     "start_time": "2020-03-03T08:21:59.532328Z"
    }
   },
   "outputs": [],
   "source": [
    "import numpy as np"
   ]
  },
  {
   "cell_type": "code",
   "execution_count": 8,
   "metadata": {
    "ExecuteTime": {
     "end_time": "2020-03-03T08:22:39.181967Z",
     "start_time": "2020-03-03T08:22:39.172014Z"
    }
   },
   "outputs": [
    {
     "data": {
      "text/plain": [
       "(0.03593031911292577, 1.8)"
      ]
     },
     "execution_count": 8,
     "metadata": {},
     "output_type": "execute_result"
    }
   ],
   "source": [
    "# Give your solution here \n",
    "\n",
    "mu = 500\n",
    "sigma = 100\n",
    "n = 25\n",
    "x_bar = np.mean([434, 694, 457, 534, 720, 400, 484, 478, 610, 641, 425, 636, 454, \n",
    "514, 563, 370, 499, 640, 501, 625, 612, 471, 598, 509, 531])\n",
    "z = (x_bar - mu)/(sigma/math.sqrt(n))\n",
    "p = 1 - stats.norm.cdf(z)\n",
    "\n",
    "p, z\n",
    "\n",
    "# p = 0.03593031911292577, z = 1.8"
   ]
  },
  {
   "cell_type": "code",
   "execution_count": 9,
   "metadata": {
    "ExecuteTime": {
     "end_time": "2020-03-03T08:24:32.853313Z",
     "start_time": "2020-03-03T08:24:32.851307Z"
    }
   },
   "outputs": [],
   "source": [
    "# Interpret the results in terms of the p-value\n",
    "# Here our p-value is 0.035 with an alpha of 0.05, so we reject the null \n",
    "# hypothesis in this case and state that:\n",
    "# The prep course has a significant effect on the SAT score at a significance\n",
    "# level of 0.05."
   ]
  },
  {
   "cell_type": "markdown",
   "metadata": {},
   "source": [
    "## Summary\n",
    "\n",
    "In this lesson, you conducted a couple of simple tests comparing sample and population means, in an attempt to reject our null hypotheses. This provides you with a strong foundation to move ahead with more advanced tests and approaches later on."
   ]
  }
 ],
 "metadata": {
  "kernelspec": {
   "display_name": "Python 3",
   "language": "python",
   "name": "python3"
  },
  "language_info": {
   "codemirror_mode": {
    "name": "ipython",
    "version": 3
   },
   "file_extension": ".py",
   "mimetype": "text/x-python",
   "name": "python",
   "nbconvert_exporter": "python",
   "pygments_lexer": "ipython3",
   "version": "3.7.4"
  },
  "toc": {
   "base_numbering": 1,
   "nav_menu": {},
   "number_sections": true,
   "sideBar": true,
   "skip_h1_title": false,
   "title_cell": "Table of Contents",
   "title_sidebar": "Contents",
   "toc_cell": false,
   "toc_position": {},
   "toc_section_display": true,
   "toc_window_display": false
  }
 },
 "nbformat": 4,
 "nbformat_minor": 2
}
